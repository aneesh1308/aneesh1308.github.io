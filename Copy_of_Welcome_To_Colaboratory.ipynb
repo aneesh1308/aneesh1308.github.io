{
  "nbformat": 4,
  "nbformat_minor": 0,
  "metadata": {
    "colab": {
      "name": "Copy of Welcome To Colaboratory",
      "provenance": [],
      "collapsed_sections": [],
      "include_colab_link": true
    },
    "kernelspec": {
      "display_name": "Python 3",
      "name": "python3"
    }
  },
  "cells": [
    {
      "cell_type": "markdown",
      "metadata": {
        "id": "view-in-github",
        "colab_type": "text"
      },
      "source": [
        "<a href=\"https://colab.research.google.com/github/aneesh1308/aneesh1308.github.io/blob/main/Copy_of_Welcome_To_Colaboratory.ipynb\" target=\"_parent\"><img src=\"https://colab.research.google.com/assets/colab-badge.svg\" alt=\"Open In Colab\"/></a>"
      ]
    },
    {
      "cell_type": "markdown",
      "metadata": {
        "id": "SG8ypSO9GCPa"
      },
      "source": [
        " 1>>COMPUTE THE GCD OF TWO NUMBERS"
      ]
    },
    {
      "cell_type": "code",
      "metadata": {
        "id": "Ks-jDrvPGCbI",
        "colab": {
          "base_uri": "https://localhost:8080/"
        },
        "outputId": "a3183820-e1e4-4c3f-9ce4-1a1513bc5065"
      },
      "source": [
        " \n",
        "d1=int(input(\"Enter a number:\"))\n",
        "d2=int(input(\"Enter another number\"))\n",
        "rem=d1%d2\n",
        "while rem!=0:\n",
        "  d1=d2\n",
        "  d2=rem\n",
        "  rem=d1%d2\n",
        "print (\"gcd of given numbers is \",d2)"
      ],
      "execution_count": 51,
      "outputs": [
        {
          "output_type": "stream",
          "text": [
            "Enter a number:54\n",
            "Enter another number24\n",
            "gcd of given numbers is  6\n"
          ],
          "name": "stdout"
        }
      ]
    },
    {
      "cell_type": "markdown",
      "metadata": {
        "id": "4XVdgLWrGZ-C"
      },
      "source": [
        " 2a>>NEWTON’S METHOD"
      ]
    },
    {
      "cell_type": "code",
      "metadata": {
        "id": "nJ9fJmCrGaZH",
        "colab": {
          "base_uri": "https://localhost:8080/"
        },
        "outputId": "af09937e-d738-4a99-a3a5-4fa2f520f00c"
      },
      "source": [
        "def newtonSqrt(n, howmany):\n",
        "   approx = 0.5*n\n",
        "   for i in range(howmany):\n",
        "     betterapprox = 0.5 * (approx + n/approx)\n",
        "     approx = betterapprox\n",
        "   return betterapprox\n",
        "n=int(input(\"Enter a number:\"))\n",
        "howmany=int(input(\"how much approx you want:\"))\n",
        "print(\"Newton Sqrt Value is =\",newtonSqrt(n,howmany))"
      ],
      "execution_count": null,
      "outputs": [
        {
          "output_type": "stream",
          "text": [
            "Enter a number:36\n",
            "how much approx you want:6\n",
            "Newton Sqrt Value is = 6.0\n"
          ],
          "name": "stdout"
        }
      ]
    },
    {
      "cell_type": "markdown",
      "metadata": {
        "id": "XXJqCUh7d10f"
      },
      "source": [
        "2b>>FEBONACCI SERIES"
      ]
    },
    {
      "cell_type": "code",
      "metadata": {
        "colab": {
          "base_uri": "https://localhost:8080/"
        },
        "id": "Lvc0Vd-8eITw",
        "outputId": "1427c524-ae6e-4987-86e3-696432ebda63"
      },
      "source": [
        " \n",
        "n = int(input(\"Enter the value of 'n': \"))\n",
        "a = 0\n",
        "b = 1\n",
        "sum = 0\n",
        "count = 1\n",
        "print(\"Fibonacci Series: \", end = \" \")\n",
        "while(count <= n):\n",
        "  print(sum, end = \" \")\n",
        "  count += 1\n",
        "  a = b\n",
        "  b = sum\n",
        "  sum = a + b"
      ],
      "execution_count": 50,
      "outputs": [
        {
          "output_type": "stream",
          "text": [
            "Enter the value of 'n': 5\n",
            "Fibonacci Series:  0 1 1 2 3 "
          ],
          "name": "stdout"
        }
      ]
    },
    {
      "cell_type": "markdown",
      "metadata": {
        "id": "OuX6-APPKT3d"
      },
      "source": [
        "3>>POWER OF A NUMBER"
      ]
    },
    {
      "cell_type": "code",
      "metadata": {
        "id": "Rp1fQMStKULK",
        "colab": {
          "base_uri": "https://localhost:8080/"
        },
        "outputId": "b44d8a55-8d25-45ce-921b-d97609111862"
      },
      "source": [
        " \n",
        "def power(base, exp):\n",
        "  if (exp==1):\n",
        "    return (base)\n",
        "  if (exp!=1):\n",
        "    return (base*power(base,exp-1))\n",
        "base= int(input(\"Enter base: \"))\n",
        "exp=int(input(\"Enter exponential value: \"))\n",
        "print(\"Result:\",power(base, exp))"
      ],
      "execution_count": null,
      "outputs": [
        {
          "output_type": "stream",
          "text": [
            "Enter base: 5\n",
            "Enter exponential value: 4\n",
            "Result: 625\n"
          ],
          "name": "stdout"
        }
      ]
    },
    {
      "cell_type": "markdown",
      "metadata": {
        "id": "PUZo6sd_LoCY"
      },
      "source": [
        "4>>MAXIMUM OF A LIST OF NUMBERS"
      ]
    },
    {
      "cell_type": "code",
      "metadata": {
        "id": "xTtUR2pNNFNO",
        "colab": {
          "base_uri": "https://localhost:8080/"
        },
        "outputId": "4a07b5e9-fec9-4701-ca2d-0ba2b8fc82ed"
      },
      "source": [
        "a=[ ]\n",
        "n=int(input(\"Enter number of elements:\"))\n",
        "for i in range(1,n+1):\n",
        "  b=int(input(\"Enter element:\"))\n",
        "  a.append(b)\n",
        "print(a)\n",
        "a.sort()\n",
        "print(a)\n",
        "print(\"Largest element is:\",a[n-1])"
      ],
      "execution_count": 1,
      "outputs": [
        {
          "output_type": "stream",
          "text": [
            "Enter number of elements:4\n",
            "Enter element:34\n",
            "Enter element:43\n",
            "Enter element:25\n",
            "Enter element:100\n",
            "[34, 43, 25, 100]\n",
            "[25, 34, 43, 100]\n",
            "Largest element is: 100\n"
          ],
          "name": "stdout"
        }
      ]
    },
    {
      "cell_type": "markdown",
      "metadata": {
        "id": "HXxKfv3sNNfq"
      },
      "source": [
        " 5a>>LINEAR SEARCH"
      ]
    },
    {
      "cell_type": "code",
      "metadata": {
        "id": "ndtreXZ1NS-B",
        "colab": {
          "base_uri": "https://localhost:8080/"
        },
        "outputId": "799f97bb-8fea-4a9e-c1b9-37fb923ff027"
      },
      "source": [
        "list= [41, 29, 8, 96, 13, 19]\n",
        "x = int(input(\"Enter number to search: \"))\n",
        "found = False\n",
        "for i in range(len(list)):\n",
        "    if(list[i]== x):\n",
        "      found = True\n",
        "      print(x,\"found at \",i,\" position\")\n",
        "      break\n",
        "else:\n",
        "    print(x,\"is not in list\")"
      ],
      "execution_count": 16,
      "outputs": [
        {
          "output_type": "stream",
          "text": [
            "Enter number to search: 96\n",
            "96 found at  3  position\n"
          ],
          "name": "stdout"
        }
      ]
    },
    {
      "cell_type": "markdown",
      "metadata": {
        "id": "llZJhkLQQFHH"
      },
      "source": [
        " 5b>>BINARY SEARCH"
      ]
    },
    {
      "cell_type": "code",
      "metadata": {
        "colab": {
          "base_uri": "https://localhost:8080/"
        },
        "id": "-43zOKZLQH6y",
        "outputId": "e35c0997-3bef-4ec1-fe86-e47d43cd3751"
      },
      "source": [
        "def Binary_search(arr,start_index,last_index,element):\n",
        "  while (start_index<= last_index):\n",
        "    mid =int((start_index+last_index)/2)\n",
        "    if (element>arr[mid]):\n",
        "      start_index = mid+1\n",
        "    elif (element<arr[mid]):\n",
        "      last_index = mid-1\n",
        "    elif (element == arr[mid]):\n",
        "      return mid\n",
        "  else:\n",
        "      print(\"element not present in array\")\n",
        "arr = [14,19,21,99,210,512,1028,4443,5110]\n",
        "element = int(input(\"Enter the element to be searched:\"))\n",
        "start_index = 0\n",
        "last_index = len(arr)-1\n",
        "found = Binary_search(arr,start_index,last_index,element)\n",
        "print (\"element is present at index \" + str(found))"
      ],
      "execution_count": 35,
      "outputs": [
        {
          "output_type": "stream",
          "text": [
            "Enter the element to be searched:1028\n",
            "element is present at index 6\n"
          ],
          "name": "stdout"
        }
      ]
    },
    {
      "cell_type": "markdown",
      "metadata": {
        "id": "w4wc5wQTV06i"
      },
      "source": [
        "6a>>SELECTION SORT"
      ]
    },
    {
      "cell_type": "code",
      "metadata": {
        "colab": {
          "base_uri": "https://localhost:8080/"
        },
        "id": "2gnMjTM6V4ZV",
        "outputId": "cb86f675-87b7-4986-82da-8fad5ba94b0e"
      },
      "source": [
        " \n",
        "def selectionSort(list):\n",
        "  for fillslot in range(len(list)-1,0,-1):\n",
        "    max=0\n",
        "    for location in range(1,fillslot+1):\n",
        "      if list[location]>list[max]:\n",
        "        max = location\n",
        "      temp = list[fillslot]\n",
        "      list[fillslot] = list[max]\n",
        "      list[max] = temp\n",
        "list = [43,97,23,87,54,91,21,8,45]\n",
        "selectionSort(list)\n",
        "print(list)"
      ],
      "execution_count": 45,
      "outputs": [
        {
          "output_type": "stream",
          "text": [
            "[8, 21, 23, 43, 45, 54, 87, 91, 97]\n"
          ],
          "name": "stdout"
        }
      ]
    },
    {
      "cell_type": "markdown",
      "metadata": {
        "id": "EEBDueonbrTE"
      },
      "source": [
        "6b>>INSERTION SORT"
      ]
    },
    {
      "cell_type": "code",
      "metadata": {
        "colab": {
          "base_uri": "https://localhost:8080/"
        },
        "id": "T557155qbrpP",
        "outputId": "8fce6550-9dfb-4f3c-d513-74aad8684d1a"
      },
      "source": [
        " \n",
        "def insertionSort(list):\n",
        "  for index in range(1,len(list)):\n",
        "    currentvalue = list[index]\n",
        "    position = index\n",
        "    while position>0 and list[position-1]>currentvalue:\n",
        "      list[position]=list[position-1]\n",
        "      position = position-1\n",
        "      list[position]=currentvalue\n",
        "list = [95,34,23,67,89,100,49,8]\n",
        "insertionSort(list)\n",
        "print(list)"
      ],
      "execution_count": 48,
      "outputs": [
        {
          "output_type": "stream",
          "text": [
            "[8, 23, 34, 49, 67, 89, 95, 100]\n"
          ],
          "name": "stdout"
        }
      ]
    }
  ]
}